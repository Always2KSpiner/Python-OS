{
 "cells": [
  {
   "cell_type": "markdown",
   "metadata": {},
   "source": [
    "# DAY - 4 Camera(simple Camera)"
   ]
  },
  {
   "cell_type": "code",
   "execution_count": 11,
   "metadata": {
    "scrolled": false
   },
   "outputs": [
    {
     "name": "stdout",
     "output_type": "stream",
     "text": [
      "True\n"
     ]
    }
   ],
   "source": [
    "import cv2 as cam # import computer Vision Module\n",
    "capt=cam.VideoCapture(0) #start video capture\n",
    "stat,pic=capt.read() # save status and picture in variables\n",
    "print(stat) #print Status\n",
    "cam.imwrite('Pics/pic1.png',pic) #Save Image to Folder Pics\n",
    "capt.release() #Release Camera Resource\n",
    "cam.imshow(\"test1\",pic) # show pic in a Window called Test1\n",
    "cam.waitKey() #Hold the window on screen(move forward when a keypress is detected)\n",
    "cam.destroyAllWindows() #Close the window"
   ]
  },
  {
   "cell_type": "markdown",
   "metadata": {},
   "source": [
    "# Day-5 Image Cropping"
   ]
  },
  {
   "cell_type": "code",
   "execution_count": 12,
   "metadata": {},
   "outputs": [
    {
     "name": "stdout",
     "output_type": "stream",
     "text": [
      "True\n"
     ]
    }
   ],
   "source": [
    "import numpy as np \n",
    "import cv2 as cam # import computer Vision Module\n",
    "capt=cam.VideoCapture(0) #start video capture\n",
    "stat,pic=capt.read() # save status and picture in variables\n",
    "print(stat) #print Status\n",
    "capt.release() #Release Camera Resource\n",
    "pic=np.array(pic) # Convert pic (2d table) to array\n",
    "pic1=pic[100:450,200:500] # Cropping Image to Show Specific Region\n",
    "cam.imshow(\"test1\",pic1) # show pic in a Window called Test1\n",
    "cam.waitKey() #Hold the window on screen(move forward when a keypress is detected)\n",
    "cam.destroyAllWindows() #Close the window"
   ]
  },
  {
   "cell_type": "markdown",
   "metadata": {},
   "source": [
    "# Day-5 Video(live Streaming)"
   ]
  },
  {
   "cell_type": "code",
   "execution_count": 13,
   "metadata": {},
   "outputs": [],
   "source": [
    "import cv2 as cam # import computer Vision Module\n",
    "capt=cam.VideoCapture(0) #start video capture\n",
    "#print(stat) #print Status\n",
    "while True: #inifnte loop\n",
    "    stat,pic=capt.read() # save status and picture in variables\n",
    "    cam.imshow(\"Press Enter to Exit\",pic) # show pic in a Window called Test1\n",
    "    if cam.waitKey(1)==13:#Hold the window on screen and Refresh it every 1ms (move forward when a 'Enter' is detected)\n",
    "        break #Break Infinite Loop\n",
    "cam.destroyAllWindows() #Close the window\n",
    "capt.release() #Release Camera Resource"
   ]
  },
  {
   "cell_type": "markdown",
   "metadata": {},
   "source": [
    "# Day 5 Cropped Live Streaming "
   ]
  },
  {
   "cell_type": "code",
   "execution_count": 14,
   "metadata": {},
   "outputs": [],
   "source": [
    "import numpy as np \n",
    "import cv2 as cam # import computer Vision Module\n",
    "capt=cam.VideoCapture(0) #start video capture\n",
    "#print(stat) #print Status\n",
    "while True: #inifnte loop\n",
    "    stat,pic=capt.read() # save status and picture in variables\n",
    "    pic1=pic[250:450,350:500] # Cropping Image to Show Specific Region\n",
    "    pic[10:210,10:160]=pic1 #Showing Cropped Region in top Left Corner\n",
    "    cam.imshow(\"Press Enter to Exit\",pic) # show pic in a Window called Test1\n",
    "    if cam.waitKey(1)==13:#Hold the window on screen and Refresh it every 1ms (move forward when a 'Enter' is detected)\n",
    "        break #Break Infinite Loop\n",
    "cam.destroyAllWindows() #Close the window\n",
    "capt.release() #Release Camera Resource"
   ]
  },
  {
   "cell_type": "code",
   "execution_count": null,
   "metadata": {},
   "outputs": [],
   "source": []
  }
 ],
 "metadata": {
  "kernelspec": {
   "display_name": "Python 3",
   "language": "python",
   "name": "python3"
  },
  "language_info": {
   "codemirror_mode": {
    "name": "ipython",
    "version": 3
   },
   "file_extension": ".py",
   "mimetype": "text/x-python",
   "name": "python",
   "nbconvert_exporter": "python",
   "pygments_lexer": "ipython3",
   "version": "3.6.6"
  }
 },
 "nbformat": 4,
 "nbformat_minor": 2
}
