{
 "cells": [
  {
   "cell_type": "markdown",
   "metadata": {},
   "source": [
    "# FACE DETECTION (LIVE STREAM)"
   ]
  },
  {
   "cell_type": "code",
   "execution_count": 10,
   "metadata": {},
   "outputs": [],
   "source": [
    "import cv2\n",
    "cam =cv2.VideoCapture(0)\n",
    "face_detect=cv2.CascadeClassifier(\"/root/Desktop/python/haarcascade_frontalface_default.xml\")\n",
    "while True:\n",
    "    stat ,photo =cam.read()\n",
    "    loc=face_detect.detectMultiScale(photo)\n",
    "    if len(loc) == 1:\n",
    "        x1=loc[0][0]\n",
    "        y1=loc[0][1]\n",
    "        x2=x1+loc[0][2]\n",
    "        y2=y1+loc[0][3]\n",
    "        photo=cv2.rectangle(photo,(x1,y1),(x2,y2),(255,255,255),1)\n",
    "        cv2.imshow(\"Face Detect\",photo)\n",
    "        if cv2.waitKey(1)==13:\n",
    "            break\n",
    "    elif len(loc) == 2:\n",
    "        x10=loc[0][0]\n",
    "        y10=loc[0][1]\n",
    "        x20=x1+loc[0][2]\n",
    "        y20=y1+loc[0][3]\n",
    "        x11=loc[1][0]\n",
    "        y11=loc[1][1]\n",
    "        x21=x1+loc[1][2]\n",
    "        y21=y1+loc[1][3]\n",
    "        rphoto=cv2.rectangle(photo,(x10,y10),(x20,y20),(255,255,255),1)\n",
    "        cphoto=cv2.rectangle(rphoto,(x11,y11),(x21,y21),(255,255,255),1)\n",
    "        cv2.imshow(\"Face Detect\",cphoto)\n",
    "        if cv2.waitKey(1)==13:\n",
    "            break\n",
    "    else:\n",
    "        cv2.imshow(\"Face Detect\",photo)\n",
    "        if cv2.waitKey(1)==13:\n",
    "            break\n",
    "cv2.destroyAllWindows()\n",
    "cam.release()"
   ]
  },
  {
   "cell_type": "markdown",
   "metadata": {},
   "source": [
    "# CROPPED FACE DETECT(LIVE STREAM)"
   ]
  },
  {
   "cell_type": "code",
   "execution_count": 9,
   "metadata": {},
   "outputs": [],
   "source": [
    "import cv2\n",
    "cam =cv2.VideoCapture(0)\n",
    "face_detect=cv2.CascadeClassifier(\"/root/Desktop/python/haarcascade_frontalface_default.xml\")\n",
    "while True:\n",
    "    stat ,photo =cam.read()\n",
    "    loc=face_detect.detectMultiScale(photo)\n",
    "    if len(loc) != 0:\n",
    "        x1=loc[0][0]\n",
    "        y1=loc[0][1]\n",
    "        x2=x1+loc[0][2]\n",
    "        y2=y1+loc[0][3]\n",
    "        photo=photo[y1:y2,x1:x2]\n",
    "        cv2.imshow(\"Face Detect\",photo)\n",
    "        if cv2.waitKey(1)==13:\n",
    "            break\n",
    "    #else:\n",
    "     #   cv2.imshow(\"Face Detect\",photo)\n",
    "      #  if cv2.waitKey(1)==13:\n",
    "       #     break\n",
    "cv2.destroyAllWindows()\n",
    "cam.release()"
   ]
  },
  {
   "cell_type": "markdown",
   "metadata": {},
   "source": [
    "# PICTURES OF FACE ONLY"
   ]
  },
  {
   "cell_type": "code",
   "execution_count": 3,
   "metadata": {
    "scrolled": true
   },
   "outputs": [],
   "source": [
    "import cv2\n",
    "cam = cv2.VideoCapture(0)\n",
    "face_model = cv2.CascadeClassifier('/root/Desktop/python/haarcascade_frontalface_default.xml')\n",
    "for i in range(0,250):\n",
    "    stat, photo = cam.read()\n",
    "    loc = face_model.detectMultiScale(photo)\n",
    "    if len(loc):\n",
    "        x1 = loc[0][0]\n",
    "        y1 = loc[0][1]\n",
    "        x2 = loc[0][2] + x1\n",
    "        y2 = loc[0][3] + y1\n",
    "    ## Co-ordinates of rectangle are added to make a rectangle over live image\n",
    "        photo = photo[y1:y2, x1:x2]\n",
    "        photo = cv2.resize(photo,(200,200))\n",
    "        photo = cv2.cvtColor(photo, cv2.COLOR_BGR2GRAY) #Convert to GrayScal\n",
    "        #print(photo.shape)\n",
    "        cv2.imwrite('/root/Desktop/python/dataset_face/Anirudh{}.png'.format(i), photo)\n",
    "        #cv2.imshow(\"hi\",photo)\n",
    "        #cv2.waitKey(1)\n",
    "#cv2.destroyAllWindows()\n",
    "cam.release()"
   ]
  },
  {
   "cell_type": "code",
   "execution_count": 2,
   "metadata": {},
   "outputs": [],
   "source": []
  },
  {
   "cell_type": "code",
   "execution_count": null,
   "metadata": {},
   "outputs": [],
   "source": []
  }
 ],
 "metadata": {
  "kernelspec": {
   "display_name": "Python 3",
   "language": "python",
   "name": "python3"
  },
  "language_info": {
   "codemirror_mode": {
    "name": "ipython",
    "version": 3
   },
   "file_extension": ".py",
   "mimetype": "text/x-python",
   "name": "python",
   "nbconvert_exporter": "python",
   "pygments_lexer": "ipython3",
   "version": "3.6.6"
  }
 },
 "nbformat": 4,
 "nbformat_minor": 2
}
